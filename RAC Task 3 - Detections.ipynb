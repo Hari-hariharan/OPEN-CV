{
 "cells": [
  {
   "cell_type": "markdown",
   "id": "84417a26",
   "metadata": {},
   "source": [
    "<h1>CORNER DETECTION</h1>"
   ]
  },
  {
   "cell_type": "code",
   "execution_count": 2,
   "id": "389ebd04",
   "metadata": {},
   "outputs": [],
   "source": [
    "import cv2\n",
    "import numpy as np\n",
    "\n",
    "cap = cv2.VideoCapture(\"C:/Users/developer/Desktop/hari college kct/RAC/cars.mp4\")\n",
    "\n",
    "\n",
    "while True:\n",
    " _, frame = cap.read()\n",
    " gray = cv2.cvtColor(frame, cv2.COLOR_BGR2GRAY)\n",
    "\n",
    " corners = cv2.goodFeaturesToTrack(gray, 500, 0.01, 20)\n",
    " corners = np.int0(corners)\n",
    "\n",
    " for corner in corners:\n",
    "       x, y = corner.ravel()\n",
    "       cv2.circle(frame, (x, y), 3, (0, 0, 255), -1)\n",
    "\n",
    " cv2.imshow(\"Corner Detection\", frame)\n",
    "\n",
    " key = cv2.waitKey(1)\n",
    " if key == 27:\n",
    "    break\n",
    "\n",
    "cap.release()\n",
    "cv2.destroyAllWindows()"
   ]
  },
  {
   "cell_type": "markdown",
   "id": "77e84e5a",
   "metadata": {},
   "source": [
    "<h1>EDGE DETECTION</h1>"
   ]
  },
  {
   "cell_type": "code",
   "execution_count": 3,
   "id": "cb86246b",
   "metadata": {},
   "outputs": [],
   "source": [
    "import cv2\n",
    "import numpy as np\n",
    "cap = cv2.VideoCapture(\"C:/Users/developer/Desktop/hari college kct/RAC/cars.mp4\")\n",
    "\n",
    "while True:\n",
    "    ret, frame = cap.read()   \n",
    "    image_gray = cv2.cvtColor(frame, cv2.COLOR_BGR2GRAY)\n",
    "    med_val = np.median(image_gray) \n",
    "    lower = int(max(0, 0.7* med_val))\n",
    "    upper = int(min(255,1.3 * med_val))\n",
    "    edges = cv2.Canny(image=image_gray, threshold1=lower , threshold2=upper)\n",
    "    cv2.imshow('Edge Detection',edges)\n",
    "    cv2.imshow('Video', frame)\n",
    "    if cv2.waitKey(20) == 27: \n",
    "        break\n",
    "        \n",
    "cap.release() \n",
    "cv2.destroyAllWindows()"
   ]
  },
  {
   "cell_type": "markdown",
   "id": "026da1c2",
   "metadata": {},
   "source": [
    "<h1>CONTOUR DETECTION</h1>"
   ]
  },
  {
   "cell_type": "code",
   "execution_count": 4,
   "id": "98f82f67",
   "metadata": {},
   "outputs": [],
   "source": [
    "import cv2\n",
    "\n",
    "cap = cv2.VideoCapture(\"C:/Users/developer/Desktop/hari college kct/RAC/cars.mp4\")\n",
    "\n",
    "while True:\n",
    "    ret, frame = cap.read()    \n",
    "    threshold_1 = 30\n",
    "    threshold_2 = 80\n",
    "    image_gray = cv2.cvtColor(frame, cv2.COLOR_BGR2GRAY)\n",
    "    ret, thresh = cv2.threshold(image_gray, 127, 255, 0)\n",
    "    contours, hierarchy = cv2.findContours(thresh, cv2.RETR_TREE, cv2.CHAIN_APPROX_NONE)    \n",
    "    cv2.drawContours(image_gray,contours, -1, (0, 255, 0), -1)\n",
    "    cv2.imshow('Contour Detection',image_gray)\n",
    "    cv2.imshow('Video', frame)\n",
    "    if cv2.waitKey(20) == 27: \n",
    "        break\n",
    "        \n",
    "cap.release() \n",
    "cv2.destroyAllWindows()"
   ]
  },
  {
   "cell_type": "markdown",
   "id": "49e85970",
   "metadata": {},
   "source": [
    "<h1>GRID DETECTION</h1>"
   ]
  },
  {
   "cell_type": "code",
   "execution_count": 1,
   "id": "611586a0",
   "metadata": {},
   "outputs": [],
   "source": [
    "import cv2\n",
    "import numpy as np\n",
    "\n",
    "cap = cv2.VideoCapture(\"chess board video.mp4\")\n",
    "\n",
    "while True:\n",
    "    ret, img = cap.read() \n",
    "    gray = cv2.cvtColor(img, cv2.COLOR_BGR2GRAY)\n",
    "    edges = cv2.Canny(gray, 50, 150, apertureSize=3)\n",
    "    cv2.imshow('edges', edges)\n",
    "    lines = cv2.HoughLines(edges, 1, np.pi / 180, 200)\n",
    "\n",
    "    for line in lines:\n",
    "      rho,theta = line[0]\n",
    "      a = np.cos(theta)\n",
    "      b = np.sin(theta)\n",
    "      x0 = a * rho\n",
    "      y0 = b * rho\n",
    "      x1 = int(x0 + 1000 * (-b))\n",
    "      y1 = int(y0 + 1000 * (a))\n",
    "      x2 = int(x0 - 1000 * (-b))\n",
    "      y2 = int(y0 - 1000 * (a))\n",
    "      cv2.line(img, (x1, y1), (x2, y2), (0, 0, 255), 2)\n",
    "      cv2.imshow('Live Edge Detection',img)\n",
    "    if cv2.waitKey(10) == 27: \n",
    "        break\n",
    "        \n",
    "cap.release() \n",
    "cv2.destroyAllWindows()"
   ]
  },
  {
   "cell_type": "code",
   "execution_count": null,
   "id": "88d1504d",
   "metadata": {},
   "outputs": [],
   "source": []
  }
 ],
 "metadata": {
  "kernelspec": {
   "display_name": "Python 3",
   "language": "python",
   "name": "python3"
  },
  "language_info": {
   "codemirror_mode": {
    "name": "ipython",
    "version": 3
   },
   "file_extension": ".py",
   "mimetype": "text/x-python",
   "name": "python",
   "nbconvert_exporter": "python",
   "pygments_lexer": "ipython3",
   "version": "3.8.8"
  }
 },
 "nbformat": 4,
 "nbformat_minor": 5
}
