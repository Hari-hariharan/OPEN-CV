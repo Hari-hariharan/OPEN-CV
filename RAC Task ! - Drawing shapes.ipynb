{
 "cells": [
  {
   "cell_type": "code",
   "execution_count": 1,
   "id": "380dc70d",
   "metadata": {},
   "outputs": [],
   "source": [
    "import cv2\n",
    "import numpy as np"
   ]
  },
  {
   "cell_type": "markdown",
   "id": "61281523",
   "metadata": {},
   "source": [
    "<h1>1.Drawing different shapes with mouse clicks </h1>"
   ]
  },
  {
   "cell_type": "code",
   "execution_count": 2,
   "id": "23dd6922",
   "metadata": {},
   "outputs": [],
   "source": [
    "import cv2\n",
    "import numpy as np\n",
    "import matplotlib.pyplot as plt\n",
    "\n",
    "img=np.zeros((512,512,3),np.int8)\n",
    "\n",
    "def print_shapes(event, x, y, flags, param):\n",
    "    if event == cv2.EVENT_LBUTTONDOWN:\n",
    "        cv2.circle(img,(x,y),100,(255,0,0),-1)\n",
    "    elif event == cv2.EVENT_RBUTTONDOWN:\n",
    "        cv2.rectangle(img, pt1=(x,y), pt2=(x+200,y+200),color=(0,255,0),thickness=-1)\n",
    "            \n",
    "cv2.namedWindow(winname= \"Shape_drawing\")\n",
    "cv2.setMouseCallback(\"Shape_drawing\",print_shapes)\n",
    "while True:\n",
    "    cv2.imshow(\"Shape_drawing\", img)\n",
    "    if cv2.waitKey(10) == 27:\n",
    "        break\n",
    "cv2.destroyAllWindows()"
   ]
  },
  {
   "cell_type": "markdown",
   "id": "57d70edb",
   "metadata": {},
   "source": [
    "<h1>2.Drawing different shapes  with direct drawing</h1>"
   ]
  },
  {
   "cell_type": "code",
   "execution_count": 3,
   "id": "64fe61ef",
   "metadata": {},
   "outputs": [],
   "source": [
    "import cv2\n",
    "import numpy as np\n",
    "\n",
    "drawing = False \n",
    "ix,iy = -1,-1\n",
    "\n",
    "def draw_rectangle(event,x,y,flags,param):\n",
    "    global ix,iy,drawing,mode\n",
    "    \n",
    "    if event == cv2.EVENT_LBUTTONDOWN:\n",
    "        drawing = True\n",
    "        ix,iy = x,y\n",
    "\n",
    "    elif event == cv2.EVENT_MOUSEMOVE:\n",
    "        if drawing == True:\n",
    "            cv2.rectangle(img,(ix,iy),(x,y),(0,255,0),-1)\n",
    "           \n",
    "\n",
    "    elif event == cv2.EVENT_LBUTTONUP:\n",
    "        drawing = False\n",
    "        cv2.rectangle(img,(ix,iy),(x,y),(0,255,0),-1)\n",
    "\n",
    "img = np.zeros((512,512,3), np.uint8)\n",
    "cv2.namedWindow(winname='my_drawing')\n",
    "cv2.setMouseCallback('my_drawing',draw_rectangle)\n",
    "\n",
    "while True: \n",
    "    cv2.imshow('my_drawing',img)\n",
    "    \n",
    "    if cv2.waitKey(1) & 0xFF == 27:\n",
    "        break\n",
    "\n",
    "cv2.destroyAllWindows()"
   ]
  },
  {
   "cell_type": "markdown",
   "id": "4891830e",
   "metadata": {},
   "source": [
    "<h1>1.\tDrawing different shapes on image with mouse clicks </h1>"
   ]
  },
  {
   "cell_type": "code",
   "execution_count": 4,
   "id": "1f4cc823",
   "metadata": {},
   "outputs": [],
   "source": [
    "import cv2\n",
    "import numpy as np\n",
    "def draw_circle(event,x,y,flags,param):\n",
    "    if event == cv2.EVENT_RBUTTONDOWN:\n",
    "        cv2.circle(img,(x,y),100,(0,0,255),10)\n",
    "    elif event == cv2.EVENT_LBUTTONDOWN:\n",
    "        cv2.rectangle(img, pt1=(x,y), pt2=(x+200,y+200),color=(0,255,0),thickness=10)\n",
    "\n",
    "img = cv2.imread(\"nature.jpg\")\n",
    "cv2.namedWindow(winname='nature')\n",
    "cv2.setMouseCallback('nature',draw_circle)\n",
    "\n",
    "while True: \n",
    "    cv2.imshow('nature',img)\n",
    "    if cv2.waitKey(20) & 0xFF == 27:\n",
    "        break\n",
    "\n",
    "cv2.destroyAllWindows()"
   ]
  },
  {
   "cell_type": "markdown",
   "id": "6c22bbae",
   "metadata": {},
   "source": [
    "<h1>2.Drawing different shapes on image with direct drawing </h1>"
   ]
  },
  {
   "cell_type": "code",
   "execution_count": 5,
   "id": "bf953566",
   "metadata": {},
   "outputs": [],
   "source": [
    "import cv2\n",
    "import numpy as np\n",
    "\n",
    "drawing = False \n",
    "ix,iy = -1,-1\n",
    "\n",
    "def draw_rectangle(event,x,y,flags,param):\n",
    "    global ix,iy,drawing,mode\n",
    "    \n",
    "    if event == cv2.EVENT_LBUTTONDOWN:\n",
    "        drawing = True\n",
    "        ix,iy = x,y\n",
    "\n",
    "    elif event == cv2.EVENT_MOUSEMOVE:\n",
    "        if drawing == True:\n",
    "            cv2.rectangle(img,(ix,iy),(x,y),(0,255,0),-1)\n",
    "           \n",
    "\n",
    "    elif event == cv2.EVENT_LBUTTONUP:\n",
    "        drawing = False\n",
    "        cv2.rectangle(img,(ix,iy),(x,y),(0,255,0),-1)\n",
    "\n",
    "img = cv2.imread(\"nature.jpg\")\n",
    "cv2.namedWindow(winname='nature')\n",
    "cv2.setMouseCallback(\"nature\",draw_rectangle)\n",
    "\n",
    "while True: \n",
    "    cv2.imshow('nature',img)\n",
    "    \n",
    "    if cv2.waitKey(1) & 0xFF == 27:\n",
    "        break\n",
    "\n",
    "cv2.destroyAllWindows()"
   ]
  },
  {
   "cell_type": "code",
   "execution_count": null,
   "id": "05a1f163",
   "metadata": {},
   "outputs": [],
   "source": []
  }
 ],
 "metadata": {
  "kernelspec": {
   "display_name": "Python 3",
   "language": "python",
   "name": "python3"
  },
  "language_info": {
   "codemirror_mode": {
    "name": "ipython",
    "version": 3
   },
   "file_extension": ".py",
   "mimetype": "text/x-python",
   "name": "python",
   "nbconvert_exporter": "python",
   "pygments_lexer": "ipython3",
   "version": "3.8.8"
  }
 },
 "nbformat": 4,
 "nbformat_minor": 5
}
