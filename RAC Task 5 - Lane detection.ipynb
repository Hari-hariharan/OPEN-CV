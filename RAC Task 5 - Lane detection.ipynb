{
 "cells": [
  {
   "cell_type": "markdown",
   "id": "3b38b5fb",
   "metadata": {},
   "source": [
    "<h1>5.Lane detection in a video</h1>"
   ]
  },
  {
   "cell_type": "code",
   "execution_count": 6,
   "id": "a1413a44",
   "metadata": {},
   "outputs": [],
   "source": [
    "import matplotlib.pylab as plt\n",
    "import cv2\n",
    "import numpy as np"
   ]
  },
  {
   "cell_type": "code",
   "execution_count": 7,
   "id": "1606796b",
   "metadata": {},
   "outputs": [],
   "source": [
    "def region_of_interest(img, vertices):\n",
    "    mask = np.zeros_like(img)\n",
    "    match_mask_color = 255\n",
    "    cv2.fillPoly(mask, vertices, match_mask_color)\n",
    "    masked_image = cv2.bitwise_and(img, mask)\n",
    "    return masked_image"
   ]
  },
  {
   "cell_type": "code",
   "execution_count": 8,
   "id": "ba3298ae",
   "metadata": {},
   "outputs": [],
   "source": [
    "\n",
    "def draw_the_lines(img, lines):\n",
    "    img = np.copy(img)\n",
    "    blank_image = np.zeros((img.shape[0], img.shape[1], 3), dtype=np.uint8)\n",
    "\n",
    "    for line in lines:\n",
    "        for x1, y1, x2, y2 in line:\n",
    "            cv2.line(blank_image, (x1,y1), (x2,y2), (0, 0, 255), thickness=6)\n",
    "\n",
    "    img = cv2.addWeighted(img, 0.8, blank_image, 1, 0.0)\n",
    "    return img"
   ]
  },
  {
   "cell_type": "code",
   "execution_count": 9,
   "id": "d64a9659",
   "metadata": {},
   "outputs": [],
   "source": [
    "def process(image):\n",
    "    height = image.shape[0]\n",
    "    width = image.shape[1]\n",
    "    region_of_interest_vertices = [(0, height),(width/2, height/2+40),(width, height)]\n",
    "    gray_image = cv2.cvtColor(image, cv2.COLOR_RGB2GRAY)\n",
    "    canny_image = cv2.Canny(gray_image, 120, 120)\n",
    "    cropped_image = region_of_interest(canny_image,np.array([region_of_interest_vertices], np.int32),)\n",
    "    lines = cv2.HoughLinesP(cropped_image,\n",
    "                            rho=1,\n",
    "                            theta=np.pi/180,\n",
    "                            threshold=40,\n",
    "                            lines=np.array([]),\n",
    "                            minLineLength=40,\n",
    "                            maxLineGap=120)\n",
    "    image_with_lines = draw_the_lines(image, lines)\n",
    "    return image_with_lines\n"
   ]
  },
  {
   "cell_type": "code",
   "execution_count": 10,
   "id": "ed3440c8",
   "metadata": {},
   "outputs": [],
   "source": [
    "cap = cv2.VideoCapture('lane video.mp4')\n",
    "\n",
    "while cap.isOpened():\n",
    "    ret, frame = cap.read()\n",
    "    framy =frame.copy()\n",
    "    frame = process(frame)\n",
    "    cv2.imshow('Lane Detection', frame)\n",
    "    cv2.imshow('Video', framy)\n",
    "    if cv2.waitKey(20) & 0xFF == 27:\n",
    "        break\n",
    "\n",
    "cap.release()\n",
    "cv2.destroyAllWindows()"
   ]
  }
 ],
 "metadata": {
  "kernelspec": {
   "display_name": "Python 3",
   "language": "python",
   "name": "python3"
  },
  "language_info": {
   "codemirror_mode": {
    "name": "ipython",
    "version": 3
   },
   "file_extension": ".py",
   "mimetype": "text/x-python",
   "name": "python",
   "nbconvert_exporter": "python",
   "pygments_lexer": "ipython3",
   "version": "3.8.8"
  }
 },
 "nbformat": 4,
 "nbformat_minor": 5
}
