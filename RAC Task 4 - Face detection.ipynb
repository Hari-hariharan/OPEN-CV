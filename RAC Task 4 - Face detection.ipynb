{
 "cells": [
  {
   "cell_type": "markdown",
   "id": "c9aec166",
   "metadata": {},
   "source": [
    "<h1>4.Face detection using OpenCV with showing name and bounding box.</h1>"
   ]
  },
  {
   "cell_type": "code",
   "execution_count": 1,
   "id": "cba40c80",
   "metadata": {},
   "outputs": [],
   "source": [
    "import cv2"
   ]
  },
  {
   "cell_type": "code",
   "execution_count": 2,
   "id": "64715914",
   "metadata": {},
   "outputs": [],
   "source": [
    "face_cascade = cv2.CascadeClassifier('../DATA/haarcascades/haarcascade_frontalface_default.xml')\n",
    "\n",
    "\n",
    "font = cv2.FONT_HERSHEY_SIMPLEX\n",
    "cap = cv2.VideoCapture(0)"
   ]
  },
  {
   "cell_type": "code",
   "execution_count": 3,
   "id": "50d89a00",
   "metadata": {},
   "outputs": [],
   "source": [
    "while True: \n",
    "    \n",
    "    ret, frame = cap.read(0) \n",
    "     \n",
    "    face_img = frame.copy()\n",
    "  \n",
    "    face_rects = face_cascade.detectMultiScale(face_img)\n",
    "    \n",
    "    for (x,y,w,h) in face_rects: \n",
    "        \n",
    "        frame = cv2.rectangle(face_img, (x,y), (x+w,y+h), (255,255,255), 10)\n",
    "        cv2.putText(frame,'HARIHARAN',(x-10, y-10), font, 2,(255,255,255),5)\n",
    "        \n",
    "    \n",
    "\n",
    "    cv2.imshow('Video Face Detection', frame) \n",
    "    \n",
    "    c = cv2.waitKey(1) \n",
    "    if c == 27: \n",
    "        break \n",
    "        \n",
    "cap.release() \n",
    "cv2.destroyAllWindows()"
   ]
  }
 ],
 "metadata": {
  "kernelspec": {
   "display_name": "Python 3",
   "language": "python",
   "name": "python3"
  },
  "language_info": {
   "codemirror_mode": {
    "name": "ipython",
    "version": 3
   },
   "file_extension": ".py",
   "mimetype": "text/x-python",
   "name": "python",
   "nbconvert_exporter": "python",
   "pygments_lexer": "ipython3",
   "version": "3.8.8"
  }
 },
 "nbformat": 4,
 "nbformat_minor": 5
}
